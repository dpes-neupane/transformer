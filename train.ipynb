{
 "cells": [
  {
   "cell_type": "code",
   "execution_count": 1,
   "metadata": {},
   "outputs": [],
   "source": [
    "import pickle\n",
    "import torch\n",
    "import torchtext.transforms as T\n",
    "from torchtext.data.utils import get_tokenizer\n",
    "from torchtext.vocab import build_vocab_from_iterator\n",
    "\n",
    "def loadFiles(file):\n",
    "    with open(file, \"rb\") as file:\n",
    "        data = pickle.load(file)\n",
    "    print(\"The size of the dataset is:\", len(data))\n",
    "    return data\n",
    "\n",
    "\n",
    "def separateData(data):\n",
    "    X = data[:, 0]\n",
    "    y = data[:, 1]\n",
    "    return X, y"
   ]
  },
  {
   "cell_type": "code",
   "execution_count": 2,
   "metadata": {},
   "outputs": [
    {
     "name": "stdout",
     "output_type": "stream",
     "text": [
      "The size of the dataset is: 10000\n"
     ]
    }
   ],
   "source": [
    "data = loadFiles(r'./english-german-both.pkl')"
   ]
  },
  {
   "cell_type": "code",
   "execution_count": 3,
   "metadata": {},
   "outputs": [],
   "source": [
    "eng, germ = separateData(data)"
   ]
  },
  {
   "cell_type": "code",
   "execution_count": 4,
   "metadata": {},
   "outputs": [],
   "source": [
    "def findLongestSequence(sentList):\n",
    "    return max(len(seq.split()) for seq in sentList)\n"
   ]
  },
  {
   "cell_type": "code",
   "execution_count": 5,
   "metadata": {},
   "outputs": [
    {
     "name": "stderr",
     "output_type": "stream",
     "text": [
      "/home/scotty/.local/lib/python3.10/site-packages/torchtext/data/utils.py:105: UserWarning: Spacy model \"en\" could not be loaded, trying \"en_core_web_sm\" instead\n",
      "  warnings.warn(\n",
      "/home/scotty/.local/lib/python3.10/site-packages/torchtext/data/utils.py:105: UserWarning: Spacy model \"de\" could not be loaded, trying \"de_core_news_sm\" instead\n",
      "  warnings.warn(\n"
     ]
    }
   ],
   "source": [
    "enTokenizer = get_tokenizer('spacy', language='en')\n",
    "deTokenizer = get_tokenizer('spacy', language='de')\n",
    "def yieldTokensEn(data):\n",
    "    for text in data:\n",
    "        yield enTokenizer(text[:-1])\n",
    "\n",
    "def yieldTokensDe(data):\n",
    "    \n",
    "    for text in data:\n",
    "        yield deTokenizer(text[:-1])"
   ]
  },
  {
   "cell_type": "code",
   "execution_count": 6,
   "metadata": {},
   "outputs": [],
   "source": [
    "vocabEn = build_vocab_from_iterator(yieldTokensEn(eng), specials=[\"<pad>\", \"<sos>\", \"<eos>\", \"<unk>\"], special_first=True)\n",
    "vocabDe = build_vocab_from_iterator(yieldTokensDe(germ), specials=[\"<pad>\", \"<sos>\", \"<eos>\", \"<unk>\"], special_first=True)"
   ]
  },
  {
   "cell_type": "code",
   "execution_count": 7,
   "metadata": {},
   "outputs": [],
   "source": [
    "textPipelineEn = lambda x: vocabEn(enTokenizer(x))\n",
    "textPipelineDe = lambda x: vocabDe(deTokenizer(x))"
   ]
  },
  {
   "cell_type": "code",
   "execution_count": 8,
   "metadata": {},
   "outputs": [],
   "source": [
    "from sklearn.model_selection import train_test_split\n",
    "\n",
    "SEED = 42\n",
    "trainEn, testEn, trainDe, testDe = train_test_split(eng, germ, test_size=0.1, random_state=SEED)\n",
    "trainEn, valEn, trainDe, valDe = train_test_split(eng, germ, test_size=0.1, random_state=SEED)"
   ]
  },
  {
   "cell_type": "code",
   "execution_count": 69,
   "metadata": {},
   "outputs": [
    {
     "name": "stdout",
     "output_type": "stream",
     "text": [
      "0\n",
      "[1]\n",
      "[2]\n"
     ]
    }
   ],
   "source": [
    "BATCH_SIZE = 64\n",
    "PAD_IDX = vocabEn(['<pad>'])[0]\n",
    "SOS_IDX = vocabEn(['<sos>'])\n",
    "EOS_IDX = vocabEn(['<eos>'])\n",
    "print(PAD_IDX)\n",
    "print(SOS_IDX)\n",
    "print(EOS_IDX)"
   ]
  },
  {
   "cell_type": "code",
   "execution_count": 70,
   "metadata": {},
   "outputs": [],
   "source": [
    "from torch.nn.utils.rnn import pad_sequence\n",
    "\n",
    "def generateData(eng, deu):\n",
    "    data = []\n",
    "    for en, de in zip(eng, deu):\n",
    "        enTensor = torch.tensor(textPipelineEn(en[:-1]), dtype=torch.long)\n",
    "        deTensor = torch.tensor(textPipelineDe(de[:-1]), dtype=torch.long)\n",
    "        data.append((enTensor, deTensor))\n",
    "    return data\n",
    "\n",
    "\n",
    "trainData = generateData(trainEn, trainDe)\n",
    "valData = generateData(valEn, valDe)         \n",
    "testData = generateData(testEn, testDe)        "
   ]
  },
  {
   "cell_type": "code",
   "execution_count": 71,
   "metadata": {},
   "outputs": [],
   "source": [
    "from torch.utils.data import DataLoader\n",
    "\n",
    "    \n",
    "def generateBatch(data_batch):\n",
    "  de_batch, en_batch = [], []\n",
    "  # print(data_batch)\n",
    "  for (de_item, en_item) in data_batch:\n",
    "    de_batch.append(torch.cat([torch.tensor(SOS_IDX), de_item, torch.tensor(EOS_IDX)], dim=0))\n",
    "    en_batch.append(torch.cat([torch.tensor(SOS_IDX), en_item, torch.tensor(EOS_IDX)], dim=0))\n",
    "  deLength = len(de_batch)\n",
    "  batch = pad_sequence(en_batch + de_batch, padding_value=PAD_IDX, batch_first=True)\n",
    "  en_batch, de_batch = batch[:deLength], batch[deLength:]\n",
    "  return de_batch, en_batch\n",
    "\n",
    "\n",
    "trainIter = DataLoader(trainData, batch_size=BATCH_SIZE, shuffle=True, collate_fn=generateBatch)\n",
    "valIter =  DataLoader(valData, batch_size=BATCH_SIZE, shuffle=True, collate_fn=generateBatch)"
   ]
  },
  {
   "cell_type": "code",
   "execution_count": 72,
   "metadata": {},
   "outputs": [
    {
     "name": "stdout",
     "output_type": "stream",
     "text": [
      "The english has 2594 words.\n",
      "The german has 4167 words.\n"
     ]
    }
   ],
   "source": [
    "from model.transformer import Transformer\n",
    "from model.positenc import PositionalEncodingTorch\n",
    "from torch.nn import Embedding, Module, Linear\n",
    "\n",
    "EMB_DIM = 128\n",
    "HEADS = 8\n",
    "LINEAR_DIM = 512\n",
    "DROPOUT = 0.1\n",
    "LAYERS = 2\n",
    "BETA_1 = 0.9\n",
    "BETA_2 = 0.98\n",
    "EPSILON = 10**-9\n",
    "ENG_VOCAB_LEN = vocabEn.__len__()\n",
    "DE_VOCAB_LEN = vocabDe.__len__()\n",
    "device = torch.device('cuda' if torch.cuda.is_available() else 'cpu')\n",
    "\n",
    "print(f\"The english has {ENG_VOCAB_LEN} words.\")\n",
    "print(f\"The german has {DE_VOCAB_LEN} words.\")\n",
    "\n",
    "EN_MAX_SEQ_LEN, DE_MAX_SEQ_LEN = findLongestSequence(eng) + 2 , findLongestSequence(germ) + 2\n",
    "\n",
    "#mask for the decoder\n",
    "def createMask(x):\n",
    "    batch, seq_length, _ = x.size()\n",
    "    mask = torch.ones((batch, seq_length, seq_length)).to(device)\n",
    "    mask = torch.tril(mask, diagonal=0)\n",
    "    return mask\n",
    "\n",
    "def createMaskGen(x):\n",
    "    x = x.unsqueeze(1)\n",
    "    batch, _, seq_length = x.size()\n",
    "    mask = torch.ones((batch, 1, seq_length)).to(device)\n",
    "    maskR = torch.logical_and(mask, x)\n",
    "    maskC = torch.logical_and(x.transpose(-1, 1), mask.transpose(-1, 1))\n",
    "    mask = torch.multiply(maskR, maskC)\n",
    "    return mask\n",
    "    \n",
    "\n",
    "\n",
    "class TransformerModel(Module):\n",
    "    def __init__(self):\n",
    "        super().__init__()\n",
    "        self.embEn = Embedding(ENG_VOCAB_LEN, EMB_DIM)\n",
    "        self.embDe = Embedding(DE_VOCAB_LEN, EMB_DIM)\n",
    "        self.positEn = PositionalEncodingTorch(EN_MAX_SEQ_LEN, EMB_DIM)\n",
    "        self.positDe = PositionalEncodingTorch(DE_MAX_SEQ_LEN, EMB_DIM)\n",
    "        self.transformer = Transformer(LAYERS, EMB_DIM, EMB_DIM, HEADS, LINEAR_DIM, DROPOUT)\n",
    "        self.linear = Linear(EMB_DIM, DE_VOCAB_LEN)\n",
    "        \n",
    "    def forward(self, eng, de, device=device, ret_att=False):\n",
    "        mask1 = createMaskGen(eng)\n",
    "        eng = self.embEn(eng)\n",
    "        eng = self.positEn(eng, device=device)\n",
    "        mask = createMaskGen(de)\n",
    "        de = self.embDe(de)\n",
    "        de = self.positDe(de, device=device)\n",
    "        mask2 = createMask(de)\n",
    "        mask2 = torch.logical_and(mask, mask2)\n",
    "        softmax, dec = self.transformer(eng, de, mask1, mask2, return_att=ret_att)\n",
    "        lin = self.linear(dec) \n",
    "        if ret_att:\n",
    "            return softmax, lin   \n",
    "        return lin\n",
    "        \n",
    "\n",
    "\n",
    "\n",
    "\n"
   ]
  },
  {
   "cell_type": "code",
   "execution_count": 73,
   "metadata": {},
   "outputs": [],
   "source": [
    "class TransformerLRScheduler(object):\n",
    "    def __init__(self,  warmup_steps:int=10, d_model:int=512):\n",
    "        self.warmup_steps = warmup_steps\n",
    "        self.d_model = d_model\n",
    "    \n",
    "    \n",
    "    def __call__(self, epoch):\n",
    "        epoch = epoch + 1\n",
    "        minimum = min(epoch**-0.5, epoch * ((self.warmup_steps) ** (-1.5)))\n",
    "        return (self.d_model**-0.5 ) * minimum\n",
    "    "
   ]
  },
  {
   "cell_type": "code",
   "execution_count": 74,
   "metadata": {},
   "outputs": [],
   "source": [
    "def calculateAccuracy(prediction, target):\n",
    "    padding_mask = torch.logical_not(torch.eq(target, torch.tensor(0)))\n",
    "    accuracy = torch.eq(target, torch.argmax(prediction, axis=2))\n",
    "    accuracy = torch.logical_and(padding_mask, accuracy)\n",
    "    accuracy = accuracy.type(torch.float32)\n",
    "    padding_mask = padding_mask.type(torch.float32)\n",
    "    return torch.sum(accuracy) / torch.sum(padding_mask)\n",
    "    "
   ]
  },
  {
   "cell_type": "code",
   "execution_count": 75,
   "metadata": {},
   "outputs": [],
   "source": [
    "def validateModel(model, testIter, loss, device):\n",
    "    lossPerBatch = []\n",
    "    accPerBatch = []\n",
    "    with torch.no_grad():\n",
    "        model.eval()\n",
    "        for i, (X, y) in enumerate(testIter):\n",
    "            X, y = X.to(device), y.to(device)\n",
    "            out = model(X[:, 1:], y[:, :-1])\n",
    "            l = loss(out.contiguous().view(-1, 4167), y[:, 1:].contiguous().view(-1))\n",
    "            a = calculateAccuracy(out, y[:, 1:])\n",
    "            lossPerBatch.append(l.item())\n",
    "            accPerBatch.append(a.item())\n",
    "        meanLoss = sum(lossPerBatch)/len(lossPerBatch)\n",
    "    return lossPerBatch, meanLoss, accPerBatch"
   ]
  },
  {
   "cell_type": "code",
   "execution_count": 76,
   "metadata": {},
   "outputs": [],
   "source": [
    "from torch import optim\n",
    "import torch.nn as nn\n",
    "from torch.optim import lr_scheduler\n",
    "model = TransformerModel()\n",
    "model.to(device)\n",
    "optimizer = optim.Adam(model.parameters(), betas=(BETA_1, BETA_2), eps=EPSILON)\n",
    "loss = nn.CrossEntropyLoss(ignore_index=0)\n",
    "scheduler = TransformerLRScheduler(20)"
   ]
  },
  {
   "cell_type": "code",
   "execution_count": 77,
   "metadata": {},
   "outputs": [
    {
     "name": "stderr",
     "output_type": "stream",
     "text": [
      "Epoch 1:   0%|          | 0/141 [00:00<?, ?batches/s, accuracy=0, loss=8.29]"
     ]
    },
    {
     "name": "stderr",
     "output_type": "stream",
     "text": [
      "Epoch 1: 100%|██████████| 141/141 [00:09<00:00, 15.45batches/s, accuracy=0.5, loss=3.43]  \n"
     ]
    },
    {
     "name": "stdout",
     "output_type": "stream",
     "text": [
      "The validation loss is: 3.6708921790122986\n"
     ]
    },
    {
     "name": "stderr",
     "output_type": "stream",
     "text": [
      "Epoch 2: 100%|██████████| 141/141 [00:09<00:00, 14.88batches/s, accuracy=0.574, loss=2.82]\n"
     ]
    },
    {
     "name": "stdout",
     "output_type": "stream",
     "text": [
      "The validation loss is: 3.1927057802677155\n"
     ]
    },
    {
     "name": "stderr",
     "output_type": "stream",
     "text": [
      "Epoch 3: 100%|██████████| 141/141 [00:09<00:00, 15.21batches/s, accuracy=0.579, loss=2.74]\n"
     ]
    },
    {
     "name": "stdout",
     "output_type": "stream",
     "text": [
      "The validation loss is: 2.8250343948602676\n"
     ]
    },
    {
     "name": "stderr",
     "output_type": "stream",
     "text": [
      "Epoch 4: 100%|██████████| 141/141 [00:08<00:00, 16.01batches/s, accuracy=0.649, loss=2.19]\n"
     ]
    },
    {
     "name": "stdout",
     "output_type": "stream",
     "text": [
      "The validation loss is: 2.5116057693958282\n"
     ]
    },
    {
     "name": "stderr",
     "output_type": "stream",
     "text": [
      "Epoch 5: 100%|██████████| 141/141 [00:08<00:00, 15.70batches/s, accuracy=0.577, loss=2.43]\n"
     ]
    },
    {
     "name": "stdout",
     "output_type": "stream",
     "text": [
      "The validation loss is: 2.318987302482128\n"
     ]
    },
    {
     "name": "stderr",
     "output_type": "stream",
     "text": [
      "Epoch 6: 100%|██████████| 141/141 [00:09<00:00, 14.83batches/s, accuracy=0.716, loss=1.45]\n"
     ]
    },
    {
     "name": "stdout",
     "output_type": "stream",
     "text": [
      "The validation loss is: 2.1574486270546913\n"
     ]
    },
    {
     "name": "stderr",
     "output_type": "stream",
     "text": [
      "Epoch 7: 100%|██████████| 141/141 [00:09<00:00, 14.91batches/s, accuracy=0.661, loss=1.58]\n"
     ]
    },
    {
     "name": "stdout",
     "output_type": "stream",
     "text": [
      "The validation loss is: 2.108462393283844\n"
     ]
    },
    {
     "name": "stderr",
     "output_type": "stream",
     "text": [
      "Epoch 8: 100%|██████████| 141/141 [00:09<00:00, 15.25batches/s, accuracy=0.739, loss=1.23] \n"
     ]
    },
    {
     "name": "stdout",
     "output_type": "stream",
     "text": [
      "The validation loss is: 2.0209746211767197\n"
     ]
    },
    {
     "name": "stderr",
     "output_type": "stream",
     "text": [
      "Epoch 9: 100%|██████████| 141/141 [00:09<00:00, 15.17batches/s, accuracy=0.788, loss=0.941]\n"
     ]
    },
    {
     "name": "stdout",
     "output_type": "stream",
     "text": [
      "The validation loss is: 2.2718184366822243\n"
     ]
    },
    {
     "name": "stderr",
     "output_type": "stream",
     "text": [
      "Epoch 10: 100%|██████████| 141/141 [00:09<00:00, 15.51batches/s, accuracy=0.781, loss=0.963]\n"
     ]
    },
    {
     "name": "stdout",
     "output_type": "stream",
     "text": [
      "The validation loss is: 2.263396233320236\n"
     ]
    },
    {
     "name": "stderr",
     "output_type": "stream",
     "text": [
      "Epoch 11: 100%|██████████| 141/141 [00:09<00:00, 15.39batches/s, accuracy=0.696, loss=1.52] \n"
     ]
    },
    {
     "name": "stdout",
     "output_type": "stream",
     "text": [
      "The validation loss is: 2.3549006655812263\n"
     ]
    },
    {
     "name": "stderr",
     "output_type": "stream",
     "text": [
      "Epoch 12: 100%|██████████| 141/141 [00:09<00:00, 15.37batches/s, accuracy=0.706, loss=1.25] \n"
     ]
    },
    {
     "name": "stdout",
     "output_type": "stream",
     "text": [
      "The validation loss is: 2.405008926987648\n"
     ]
    },
    {
     "name": "stderr",
     "output_type": "stream",
     "text": [
      "Epoch 13: 100%|██████████| 141/141 [00:09<00:00, 15.54batches/s, accuracy=0.696, loss=1.27] \n"
     ]
    },
    {
     "name": "stdout",
     "output_type": "stream",
     "text": [
      "The validation loss is: 2.4056278243660927\n"
     ]
    },
    {
     "name": "stderr",
     "output_type": "stream",
     "text": [
      "Epoch 14: 100%|██████████| 141/141 [00:09<00:00, 15.65batches/s, accuracy=0.731, loss=1.38] \n"
     ]
    },
    {
     "name": "stdout",
     "output_type": "stream",
     "text": [
      "The validation loss is: 2.597766488790512\n"
     ]
    },
    {
     "name": "stderr",
     "output_type": "stream",
     "text": [
      "Epoch 15: 100%|██████████| 141/141 [00:09<00:00, 15.64batches/s, accuracy=0.827, loss=0.826]\n"
     ]
    },
    {
     "name": "stdout",
     "output_type": "stream",
     "text": [
      "The validation loss is: 2.4417013376951218\n"
     ]
    },
    {
     "name": "stderr",
     "output_type": "stream",
     "text": [
      "Epoch 16: 100%|██████████| 141/141 [00:09<00:00, 15.34batches/s, accuracy=0.77, loss=1.09]  \n"
     ]
    },
    {
     "name": "stdout",
     "output_type": "stream",
     "text": [
      "The validation loss is: 2.4305384978652\n"
     ]
    },
    {
     "name": "stderr",
     "output_type": "stream",
     "text": [
      "Epoch 17: 100%|██████████| 141/141 [00:09<00:00, 15.19batches/s, accuracy=0.772, loss=0.881]\n"
     ]
    },
    {
     "name": "stdout",
     "output_type": "stream",
     "text": [
      "The validation loss is: 2.513243466615677\n"
     ]
    },
    {
     "name": "stderr",
     "output_type": "stream",
     "text": [
      "Epoch 18: 100%|██████████| 141/141 [00:08<00:00, 15.74batches/s, accuracy=0.753, loss=1.17] \n"
     ]
    },
    {
     "name": "stdout",
     "output_type": "stream",
     "text": [
      "The validation loss is: 2.4118078127503395\n"
     ]
    },
    {
     "name": "stderr",
     "output_type": "stream",
     "text": [
      "Epoch 19: 100%|██████████| 141/141 [00:09<00:00, 15.57batches/s, accuracy=0.805, loss=0.757]\n"
     ]
    },
    {
     "name": "stdout",
     "output_type": "stream",
     "text": [
      "The validation loss is: 2.423986181616783\n"
     ]
    },
    {
     "name": "stderr",
     "output_type": "stream",
     "text": [
      "Epoch 20: 100%|██████████| 141/141 [00:09<00:00, 15.23batches/s, accuracy=0.742, loss=1.1]  \n"
     ]
    },
    {
     "name": "stdout",
     "output_type": "stream",
     "text": [
      "The validation loss is: 2.39555025100708\n"
     ]
    },
    {
     "name": "stderr",
     "output_type": "stream",
     "text": [
      "Epoch 21: 100%|██████████| 141/141 [00:09<00:00, 15.22batches/s, accuracy=0.799, loss=0.977]\n"
     ]
    },
    {
     "name": "stdout",
     "output_type": "stream",
     "text": [
      "The validation loss is: 2.43848218023777\n"
     ]
    },
    {
     "name": "stderr",
     "output_type": "stream",
     "text": [
      "Epoch 22: 100%|██████████| 141/141 [00:08<00:00, 15.82batches/s, accuracy=0.744, loss=1.07] \n"
     ]
    },
    {
     "name": "stdout",
     "output_type": "stream",
     "text": [
      "The validation loss is: 2.4493724033236504\n"
     ]
    },
    {
     "name": "stderr",
     "output_type": "stream",
     "text": [
      "Epoch 23: 100%|██████████| 141/141 [00:09<00:00, 15.34batches/s, accuracy=0.855, loss=0.776]\n"
     ]
    },
    {
     "name": "stdout",
     "output_type": "stream",
     "text": [
      "The validation loss is: 2.3991695418953896\n"
     ]
    },
    {
     "name": "stderr",
     "output_type": "stream",
     "text": [
      "Epoch 24: 100%|██████████| 141/141 [00:09<00:00, 15.00batches/s, accuracy=0.893, loss=0.43] \n"
     ]
    },
    {
     "name": "stdout",
     "output_type": "stream",
     "text": [
      "The validation loss is: 2.3736437633633614\n"
     ]
    },
    {
     "name": "stderr",
     "output_type": "stream",
     "text": [
      "Epoch 25: 100%|██████████| 141/141 [00:09<00:00, 15.62batches/s, accuracy=0.855, loss=0.622]\n"
     ]
    },
    {
     "name": "stdout",
     "output_type": "stream",
     "text": [
      "The validation loss is: 2.363986909389496\n"
     ]
    },
    {
     "name": "stderr",
     "output_type": "stream",
     "text": [
      "Epoch 26: 100%|██████████| 141/141 [00:09<00:00, 15.66batches/s, accuracy=0.897, loss=0.405]\n"
     ]
    },
    {
     "name": "stdout",
     "output_type": "stream",
     "text": [
      "The validation loss is: 2.454198196530342\n"
     ]
    },
    {
     "name": "stderr",
     "output_type": "stream",
     "text": [
      "Epoch 27: 100%|██████████| 141/141 [00:09<00:00, 15.44batches/s, accuracy=0.886, loss=0.387]\n"
     ]
    },
    {
     "name": "stdout",
     "output_type": "stream",
     "text": [
      "The validation loss is: 2.43957556784153\n"
     ]
    },
    {
     "name": "stderr",
     "output_type": "stream",
     "text": [
      "Epoch 28: 100%|██████████| 141/141 [00:09<00:00, 15.13batches/s, accuracy=0.864, loss=0.48] \n"
     ]
    },
    {
     "name": "stdout",
     "output_type": "stream",
     "text": [
      "The validation loss is: 2.475130155682564\n"
     ]
    },
    {
     "name": "stderr",
     "output_type": "stream",
     "text": [
      "Epoch 29: 100%|██████████| 141/141 [00:09<00:00, 15.54batches/s, accuracy=0.853, loss=0.599]\n"
     ]
    },
    {
     "name": "stdout",
     "output_type": "stream",
     "text": [
      "The validation loss is: 2.3790031522512436\n"
     ]
    },
    {
     "name": "stderr",
     "output_type": "stream",
     "text": [
      "Epoch 30: 100%|██████████| 141/141 [00:09<00:00, 15.07batches/s, accuracy=0.89, loss=0.334] \n"
     ]
    },
    {
     "name": "stdout",
     "output_type": "stream",
     "text": [
      "The validation loss is: 2.438953571021557\n"
     ]
    },
    {
     "name": "stderr",
     "output_type": "stream",
     "text": [
      "Epoch 31: 100%|██████████| 141/141 [00:09<00:00, 15.51batches/s, accuracy=0.924, loss=0.291]\n"
     ]
    },
    {
     "name": "stdout",
     "output_type": "stream",
     "text": [
      "The validation loss is: 2.435166008770466\n"
     ]
    },
    {
     "name": "stderr",
     "output_type": "stream",
     "text": [
      "Epoch 32: 100%|██████████| 141/141 [00:09<00:00, 15.26batches/s, accuracy=0.895, loss=0.447]\n"
     ]
    },
    {
     "name": "stdout",
     "output_type": "stream",
     "text": [
      "The validation loss is: 2.408282719552517\n"
     ]
    },
    {
     "name": "stderr",
     "output_type": "stream",
     "text": [
      "Epoch 33: 100%|██████████| 141/141 [00:09<00:00, 15.45batches/s, accuracy=0.916, loss=0.268]\n"
     ]
    },
    {
     "name": "stdout",
     "output_type": "stream",
     "text": [
      "The validation loss is: 2.3945429623126984\n"
     ]
    },
    {
     "name": "stderr",
     "output_type": "stream",
     "text": [
      "Epoch 34: 100%|██████████| 141/141 [00:09<00:00, 14.92batches/s, accuracy=0.882, loss=0.358]\n"
     ]
    },
    {
     "name": "stdout",
     "output_type": "stream",
     "text": [
      "The validation loss is: 2.440194569528103\n"
     ]
    },
    {
     "name": "stderr",
     "output_type": "stream",
     "text": [
      "Epoch 35: 100%|██████████| 141/141 [00:09<00:00, 15.42batches/s, accuracy=0.852, loss=0.445]\n"
     ]
    },
    {
     "name": "stdout",
     "output_type": "stream",
     "text": [
      "The validation loss is: 2.4954653829336166\n"
     ]
    },
    {
     "name": "stderr",
     "output_type": "stream",
     "text": [
      "Epoch 36: 100%|██████████| 141/141 [00:09<00:00, 15.25batches/s, accuracy=0.932, loss=0.179]\n"
     ]
    },
    {
     "name": "stdout",
     "output_type": "stream",
     "text": [
      "The validation loss is: 2.4449894055724144\n"
     ]
    },
    {
     "name": "stderr",
     "output_type": "stream",
     "text": [
      "Epoch 37: 100%|██████████| 141/141 [00:08<00:00, 15.75batches/s, accuracy=0.91, loss=0.256] \n"
     ]
    },
    {
     "name": "stdout",
     "output_type": "stream",
     "text": [
      "The validation loss is: 2.4414227083325386\n"
     ]
    },
    {
     "name": "stderr",
     "output_type": "stream",
     "text": [
      "Epoch 38: 100%|██████████| 141/141 [00:09<00:00, 15.04batches/s, accuracy=0.905, loss=0.277]\n"
     ]
    },
    {
     "name": "stdout",
     "output_type": "stream",
     "text": [
      "The validation loss is: 2.4296866357326508\n"
     ]
    },
    {
     "name": "stderr",
     "output_type": "stream",
     "text": [
      "Epoch 39: 100%|██████████| 141/141 [00:09<00:00, 15.41batches/s, accuracy=0.895, loss=0.408]\n"
     ]
    },
    {
     "name": "stdout",
     "output_type": "stream",
     "text": [
      "The validation loss is: 2.4206850305199623\n"
     ]
    },
    {
     "name": "stderr",
     "output_type": "stream",
     "text": [
      "Epoch 40: 100%|██████████| 141/141 [00:08<00:00, 15.81batches/s, accuracy=0.915, loss=0.312] \n"
     ]
    },
    {
     "name": "stdout",
     "output_type": "stream",
     "text": [
      "The validation loss is: 2.4508455470204353\n"
     ]
    },
    {
     "name": "stderr",
     "output_type": "stream",
     "text": [
      "Epoch 41: 100%|██████████| 141/141 [00:09<00:00, 15.33batches/s, accuracy=0.893, loss=0.28] \n"
     ]
    },
    {
     "name": "stdout",
     "output_type": "stream",
     "text": [
      "The validation loss is: 2.446577861905098\n"
     ]
    },
    {
     "name": "stderr",
     "output_type": "stream",
     "text": [
      "Epoch 42: 100%|██████████| 141/141 [00:09<00:00, 15.22batches/s, accuracy=0.948, loss=0.166]\n"
     ]
    },
    {
     "name": "stdout",
     "output_type": "stream",
     "text": [
      "The validation loss is: 2.484200395643711\n"
     ]
    },
    {
     "name": "stderr",
     "output_type": "stream",
     "text": [
      "Epoch 43: 100%|██████████| 141/141 [00:09<00:00, 15.46batches/s, accuracy=0.909, loss=0.242] \n"
     ]
    },
    {
     "name": "stdout",
     "output_type": "stream",
     "text": [
      "The validation loss is: 2.4314692839980125\n"
     ]
    },
    {
     "name": "stderr",
     "output_type": "stream",
     "text": [
      "Epoch 44: 100%|██████████| 141/141 [00:09<00:00, 15.19batches/s, accuracy=0.918, loss=0.297]\n"
     ]
    },
    {
     "name": "stdout",
     "output_type": "stream",
     "text": [
      "The validation loss is: 2.51539858430624\n"
     ]
    },
    {
     "name": "stderr",
     "output_type": "stream",
     "text": [
      "Epoch 45: 100%|██████████| 141/141 [00:09<00:00, 15.34batches/s, accuracy=0.897, loss=0.434] \n"
     ]
    },
    {
     "name": "stdout",
     "output_type": "stream",
     "text": [
      "The validation loss is: 2.4533243849873543\n"
     ]
    },
    {
     "name": "stderr",
     "output_type": "stream",
     "text": [
      "Epoch 46: 100%|██████████| 141/141 [00:09<00:00, 15.08batches/s, accuracy=0.956, loss=0.0966]\n"
     ]
    },
    {
     "name": "stdout",
     "output_type": "stream",
     "text": [
      "The validation loss is: 2.3826469853520393\n"
     ]
    },
    {
     "name": "stderr",
     "output_type": "stream",
     "text": [
      "Epoch 47: 100%|██████████| 141/141 [00:09<00:00, 15.34batches/s, accuracy=0.938, loss=0.177] \n"
     ]
    },
    {
     "name": "stdout",
     "output_type": "stream",
     "text": [
      "The validation loss is: 2.429791674017906\n"
     ]
    },
    {
     "name": "stderr",
     "output_type": "stream",
     "text": [
      "Epoch 48: 100%|██████████| 141/141 [00:09<00:00, 15.34batches/s, accuracy=0.967, loss=0.107] \n"
     ]
    },
    {
     "name": "stdout",
     "output_type": "stream",
     "text": [
      "The validation loss is: 2.3964041993021965\n"
     ]
    },
    {
     "name": "stderr",
     "output_type": "stream",
     "text": [
      "Epoch 49: 100%|██████████| 141/141 [00:09<00:00, 15.08batches/s, accuracy=0.951, loss=0.161] \n"
     ]
    },
    {
     "name": "stdout",
     "output_type": "stream",
     "text": [
      "The validation loss is: 2.441951848566532\n"
     ]
    },
    {
     "name": "stderr",
     "output_type": "stream",
     "text": [
      "Epoch 50: 100%|██████████| 141/141 [00:09<00:00, 15.01batches/s, accuracy=0.941, loss=0.235] \n"
     ]
    },
    {
     "name": "stdout",
     "output_type": "stream",
     "text": [
      "The validation loss is: 2.3985691517591476\n"
     ]
    },
    {
     "name": "stderr",
     "output_type": "stream",
     "text": [
      "Epoch 51: 100%|██████████| 141/141 [00:09<00:00, 14.52batches/s, accuracy=0.95, loss=0.151]  \n"
     ]
    },
    {
     "name": "stdout",
     "output_type": "stream",
     "text": [
      "The validation loss is: 2.416132867336273\n"
     ]
    },
    {
     "name": "stderr",
     "output_type": "stream",
     "text": [
      "Epoch 52: 100%|██████████| 141/141 [00:09<00:00, 14.14batches/s, accuracy=0.96, loss=0.11]   \n"
     ]
    },
    {
     "name": "stdout",
     "output_type": "stream",
     "text": [
      "The validation loss is: 2.428842380642891\n"
     ]
    },
    {
     "name": "stderr",
     "output_type": "stream",
     "text": [
      "Epoch 53: 100%|██████████| 141/141 [00:09<00:00, 14.47batches/s, accuracy=0.972, loss=0.146] \n"
     ]
    },
    {
     "name": "stdout",
     "output_type": "stream",
     "text": [
      "The validation loss is: 2.4510183706879616\n"
     ]
    },
    {
     "name": "stderr",
     "output_type": "stream",
     "text": [
      "Epoch 54: 100%|██████████| 141/141 [00:09<00:00, 14.71batches/s, accuracy=0.954, loss=0.185] \n"
     ]
    },
    {
     "name": "stdout",
     "output_type": "stream",
     "text": [
      "The validation loss is: 2.4140170514583588\n"
     ]
    },
    {
     "name": "stderr",
     "output_type": "stream",
     "text": [
      "Epoch 55: 100%|██████████| 141/141 [00:09<00:00, 14.73batches/s, accuracy=0.95, loss=0.149]  \n"
     ]
    },
    {
     "name": "stdout",
     "output_type": "stream",
     "text": [
      "The validation loss is: 2.432015120983124\n"
     ]
    },
    {
     "name": "stderr",
     "output_type": "stream",
     "text": [
      "Epoch 56: 100%|██████████| 141/141 [00:09<00:00, 14.94batches/s, accuracy=0.972, loss=0.103] \n"
     ]
    },
    {
     "name": "stdout",
     "output_type": "stream",
     "text": [
      "The validation loss is: 2.4406226724386215\n"
     ]
    },
    {
     "name": "stderr",
     "output_type": "stream",
     "text": [
      "Epoch 57: 100%|██████████| 141/141 [00:09<00:00, 15.31batches/s, accuracy=0.949, loss=0.176]\n"
     ]
    },
    {
     "name": "stdout",
     "output_type": "stream",
     "text": [
      "The validation loss is: 2.4900977090001106\n"
     ]
    },
    {
     "name": "stderr",
     "output_type": "stream",
     "text": [
      "Epoch 58: 100%|██████████| 141/141 [00:09<00:00, 14.75batches/s, accuracy=0.955, loss=0.106]\n"
     ]
    },
    {
     "name": "stdout",
     "output_type": "stream",
     "text": [
      "The validation loss is: 2.4943379536271095\n"
     ]
    },
    {
     "name": "stderr",
     "output_type": "stream",
     "text": [
      "Epoch 59: 100%|██████████| 141/141 [00:09<00:00, 14.56batches/s, accuracy=0.972, loss=0.105] \n"
     ]
    },
    {
     "name": "stdout",
     "output_type": "stream",
     "text": [
      "The validation loss is: 2.5057672634720802\n"
     ]
    },
    {
     "name": "stderr",
     "output_type": "stream",
     "text": [
      "Epoch 60: 100%|██████████| 141/141 [00:09<00:00, 15.28batches/s, accuracy=0.939, loss=0.183] \n"
     ]
    },
    {
     "name": "stdout",
     "output_type": "stream",
     "text": [
      "The validation loss is: 2.4684274941682816\n"
     ]
    },
    {
     "name": "stderr",
     "output_type": "stream",
     "text": [
      "Epoch 61: 100%|██████████| 141/141 [00:09<00:00, 15.07batches/s, accuracy=0.706, loss=1.35]  \n"
     ]
    },
    {
     "name": "stdout",
     "output_type": "stream",
     "text": [
      "The validation loss is: 2.442855179309845\n"
     ]
    },
    {
     "name": "stderr",
     "output_type": "stream",
     "text": [
      "Epoch 62: 100%|██████████| 141/141 [00:09<00:00, 14.83batches/s, accuracy=0.988, loss=0.0666]\n"
     ]
    },
    {
     "name": "stdout",
     "output_type": "stream",
     "text": [
      "The validation loss is: 2.4079596176743507\n"
     ]
    },
    {
     "name": "stderr",
     "output_type": "stream",
     "text": [
      "Epoch 63: 100%|██████████| 141/141 [00:09<00:00, 14.50batches/s, accuracy=0.962, loss=0.108] \n"
     ]
    },
    {
     "name": "stdout",
     "output_type": "stream",
     "text": [
      "The validation loss is: 2.4858641177415848\n"
     ]
    },
    {
     "name": "stderr",
     "output_type": "stream",
     "text": [
      "Epoch 64: 100%|██████████| 141/141 [00:09<00:00, 14.58batches/s, accuracy=0.941, loss=0.279] \n"
     ]
    },
    {
     "name": "stdout",
     "output_type": "stream",
     "text": [
      "The validation loss is: 2.4442346319556236\n"
     ]
    },
    {
     "name": "stderr",
     "output_type": "stream",
     "text": [
      "Epoch 65: 100%|██████████| 141/141 [00:09<00:00, 14.92batches/s, accuracy=0.989, loss=0.0735]\n"
     ]
    },
    {
     "name": "stdout",
     "output_type": "stream",
     "text": [
      "The validation loss is: 2.458151251077652\n"
     ]
    },
    {
     "name": "stderr",
     "output_type": "stream",
     "text": [
      "Epoch 66: 100%|██████████| 141/141 [00:09<00:00, 14.38batches/s, accuracy=0.914, loss=0.252] \n"
     ]
    },
    {
     "name": "stdout",
     "output_type": "stream",
     "text": [
      "The validation loss is: 2.4854013845324516\n"
     ]
    },
    {
     "name": "stderr",
     "output_type": "stream",
     "text": [
      "Epoch 67: 100%|██████████| 141/141 [00:09<00:00, 14.72batches/s, accuracy=0.955, loss=0.141] \n"
     ]
    },
    {
     "name": "stdout",
     "output_type": "stream",
     "text": [
      "The validation loss is: 2.4065169245004654\n"
     ]
    },
    {
     "name": "stderr",
     "output_type": "stream",
     "text": [
      "Epoch 68: 100%|██████████| 141/141 [00:09<00:00, 14.51batches/s, accuracy=0.96, loss=0.166]  \n"
     ]
    },
    {
     "name": "stdout",
     "output_type": "stream",
     "text": [
      "The validation loss is: 2.3798323422670364\n"
     ]
    },
    {
     "name": "stderr",
     "output_type": "stream",
     "text": [
      "Epoch 69: 100%|██████████| 141/141 [00:09<00:00, 14.62batches/s, accuracy=0.983, loss=0.0701]\n"
     ]
    },
    {
     "name": "stdout",
     "output_type": "stream",
     "text": [
      "The validation loss is: 2.5471760779619217\n"
     ]
    },
    {
     "name": "stderr",
     "output_type": "stream",
     "text": [
      "Epoch 70: 100%|██████████| 141/141 [00:09<00:00, 15.28batches/s, accuracy=0.942, loss=0.149] \n"
     ]
    },
    {
     "name": "stdout",
     "output_type": "stream",
     "text": [
      "The validation loss is: 2.4613746106624603\n"
     ]
    },
    {
     "name": "stderr",
     "output_type": "stream",
     "text": [
      "Epoch 71: 100%|██████████| 141/141 [00:09<00:00, 14.73batches/s, accuracy=0.947, loss=0.163] \n"
     ]
    },
    {
     "name": "stdout",
     "output_type": "stream",
     "text": [
      "The validation loss is: 2.432933948934078\n"
     ]
    },
    {
     "name": "stderr",
     "output_type": "stream",
     "text": [
      "Epoch 72: 100%|██████████| 141/141 [00:09<00:00, 15.04batches/s, accuracy=0.953, loss=0.187] \n"
     ]
    },
    {
     "name": "stdout",
     "output_type": "stream",
     "text": [
      "The validation loss is: 2.4253192394971848\n"
     ]
    },
    {
     "name": "stderr",
     "output_type": "stream",
     "text": [
      "Epoch 73: 100%|██████████| 141/141 [00:09<00:00, 15.20batches/s, accuracy=0.989, loss=0.0484]\n"
     ]
    },
    {
     "name": "stdout",
     "output_type": "stream",
     "text": [
      "The validation loss is: 2.4780069068074226\n"
     ]
    },
    {
     "name": "stderr",
     "output_type": "stream",
     "text": [
      "Epoch 74: 100%|██████████| 141/141 [00:09<00:00, 15.40batches/s, accuracy=0.989, loss=0.0313]\n"
     ]
    },
    {
     "name": "stdout",
     "output_type": "stream",
     "text": [
      "The validation loss is: 2.3607506453990936\n"
     ]
    },
    {
     "name": "stderr",
     "output_type": "stream",
     "text": [
      "Epoch 75: 100%|██████████| 141/141 [00:09<00:00, 14.96batches/s, accuracy=0.949, loss=0.16]  \n"
     ]
    },
    {
     "name": "stdout",
     "output_type": "stream",
     "text": [
      "The validation loss is: 2.388797625899315\n"
     ]
    },
    {
     "name": "stderr",
     "output_type": "stream",
     "text": [
      "Epoch 76: 100%|██████████| 141/141 [00:09<00:00, 14.96batches/s, accuracy=0.83, loss=0.749]  \n"
     ]
    },
    {
     "name": "stdout",
     "output_type": "stream",
     "text": [
      "The validation loss is: 2.3817024007439613\n"
     ]
    },
    {
     "name": "stderr",
     "output_type": "stream",
     "text": [
      "Epoch 77: 100%|██████████| 141/141 [00:09<00:00, 14.80batches/s, accuracy=0.955, loss=0.13]  \n"
     ]
    },
    {
     "name": "stdout",
     "output_type": "stream",
     "text": [
      "The validation loss is: 2.372066468000412\n"
     ]
    },
    {
     "name": "stderr",
     "output_type": "stream",
     "text": [
      "Epoch 78: 100%|██████████| 141/141 [00:09<00:00, 15.15batches/s, accuracy=0.973, loss=0.117] \n"
     ]
    },
    {
     "name": "stdout",
     "output_type": "stream",
     "text": [
      "The validation loss is: 2.3921579718589783\n"
     ]
    },
    {
     "name": "stderr",
     "output_type": "stream",
     "text": [
      "Epoch 79: 100%|██████████| 141/141 [00:09<00:00, 14.58batches/s, accuracy=0.966, loss=0.0929]\n"
     ]
    },
    {
     "name": "stdout",
     "output_type": "stream",
     "text": [
      "The validation loss is: 2.4209439381957054\n"
     ]
    },
    {
     "name": "stderr",
     "output_type": "stream",
     "text": [
      "Epoch 80: 100%|██████████| 141/141 [00:09<00:00, 15.07batches/s, accuracy=0.983, loss=0.0302]\n"
     ]
    },
    {
     "name": "stdout",
     "output_type": "stream",
     "text": [
      "The validation loss is: 2.402333326637745\n"
     ]
    },
    {
     "name": "stderr",
     "output_type": "stream",
     "text": [
      "Epoch 81: 100%|██████████| 141/141 [00:09<00:00, 14.85batches/s, accuracy=1, loss=0.0161]    \n"
     ]
    },
    {
     "name": "stdout",
     "output_type": "stream",
     "text": [
      "The validation loss is: 2.4163745045661926\n"
     ]
    },
    {
     "name": "stderr",
     "output_type": "stream",
     "text": [
      "Epoch 82: 100%|██████████| 141/141 [00:09<00:00, 15.01batches/s, accuracy=0.768, loss=1.06]  \n"
     ]
    },
    {
     "name": "stdout",
     "output_type": "stream",
     "text": [
      "The validation loss is: 2.4674023166298866\n"
     ]
    },
    {
     "name": "stderr",
     "output_type": "stream",
     "text": [
      "Epoch 83: 100%|██████████| 141/141 [00:09<00:00, 14.81batches/s, accuracy=0.989, loss=0.0358]\n"
     ]
    },
    {
     "name": "stdout",
     "output_type": "stream",
     "text": [
      "The validation loss is: 2.420039303600788\n"
     ]
    },
    {
     "name": "stderr",
     "output_type": "stream",
     "text": [
      "Epoch 84: 100%|██████████| 141/141 [00:09<00:00, 14.80batches/s, accuracy=0.968, loss=0.0736]\n"
     ]
    },
    {
     "name": "stdout",
     "output_type": "stream",
     "text": [
      "The validation loss is: 2.4660540744662285\n"
     ]
    },
    {
     "name": "stderr",
     "output_type": "stream",
     "text": [
      "Epoch 85: 100%|██████████| 141/141 [00:09<00:00, 15.05batches/s, accuracy=0.96, loss=0.12]   \n"
     ]
    },
    {
     "name": "stdout",
     "output_type": "stream",
     "text": [
      "The validation loss is: 2.4337507858872414\n"
     ]
    },
    {
     "name": "stderr",
     "output_type": "stream",
     "text": [
      "Epoch 86: 100%|██████████| 141/141 [00:09<00:00, 15.17batches/s, accuracy=0.994, loss=0.0168]\n"
     ]
    },
    {
     "name": "stdout",
     "output_type": "stream",
     "text": [
      "The validation loss is: 2.488387629389763\n"
     ]
    },
    {
     "name": "stderr",
     "output_type": "stream",
     "text": [
      "Epoch 87: 100%|██████████| 141/141 [00:09<00:00, 14.91batches/s, accuracy=0.978, loss=0.0491]\n"
     ]
    },
    {
     "name": "stdout",
     "output_type": "stream",
     "text": [
      "The validation loss is: 2.4742741510272026\n"
     ]
    },
    {
     "name": "stderr",
     "output_type": "stream",
     "text": [
      "Epoch 88: 100%|██████████| 141/141 [00:09<00:00, 14.84batches/s, accuracy=0.969, loss=0.114] \n"
     ]
    },
    {
     "name": "stdout",
     "output_type": "stream",
     "text": [
      "The validation loss is: 2.503173589706421\n"
     ]
    },
    {
     "name": "stderr",
     "output_type": "stream",
     "text": [
      "Epoch 89: 100%|██████████| 141/141 [00:09<00:00, 14.80batches/s, accuracy=0.968, loss=0.0843]\n"
     ]
    },
    {
     "name": "stdout",
     "output_type": "stream",
     "text": [
      "The validation loss is: 2.487916871905327\n"
     ]
    },
    {
     "name": "stderr",
     "output_type": "stream",
     "text": [
      "Epoch 90: 100%|██████████| 141/141 [00:09<00:00, 15.23batches/s, accuracy=0.984, loss=0.0782]\n"
     ]
    },
    {
     "name": "stdout",
     "output_type": "stream",
     "text": [
      "The validation loss is: 2.47575431317091\n"
     ]
    },
    {
     "name": "stderr",
     "output_type": "stream",
     "text": [
      "Epoch 91: 100%|██████████| 141/141 [00:09<00:00, 15.26batches/s, accuracy=0.984, loss=0.0614]\n"
     ]
    },
    {
     "name": "stdout",
     "output_type": "stream",
     "text": [
      "The validation loss is: 2.4763273373246193\n"
     ]
    },
    {
     "name": "stderr",
     "output_type": "stream",
     "text": [
      "Epoch 92: 100%|██████████| 141/141 [00:09<00:00, 14.97batches/s, accuracy=0.984, loss=0.0456]\n"
     ]
    },
    {
     "name": "stdout",
     "output_type": "stream",
     "text": [
      "The validation loss is: 2.4875194802880287\n"
     ]
    },
    {
     "name": "stderr",
     "output_type": "stream",
     "text": [
      "Epoch 93: 100%|██████████| 141/141 [00:09<00:00, 14.98batches/s, accuracy=0.994, loss=0.0225]\n"
     ]
    },
    {
     "name": "stdout",
     "output_type": "stream",
     "text": [
      "The validation loss is: 2.504108637571335\n"
     ]
    },
    {
     "name": "stderr",
     "output_type": "stream",
     "text": [
      "Epoch 94: 100%|██████████| 141/141 [00:09<00:00, 15.14batches/s, accuracy=0.995, loss=0.0184]\n"
     ]
    },
    {
     "name": "stdout",
     "output_type": "stream",
     "text": [
      "The validation loss is: 2.5152123793959618\n"
     ]
    },
    {
     "name": "stderr",
     "output_type": "stream",
     "text": [
      "Epoch 95: 100%|██████████| 141/141 [00:09<00:00, 14.92batches/s, accuracy=0.978, loss=0.0806]\n"
     ]
    },
    {
     "name": "stdout",
     "output_type": "stream",
     "text": [
      "The validation loss is: 2.4345881417393684\n"
     ]
    },
    {
     "name": "stderr",
     "output_type": "stream",
     "text": [
      "Epoch 96: 100%|██████████| 141/141 [00:09<00:00, 14.59batches/s, accuracy=0.99, loss=0.0265] \n"
     ]
    },
    {
     "name": "stdout",
     "output_type": "stream",
     "text": [
      "The validation loss is: 2.560623422265053\n"
     ]
    },
    {
     "name": "stderr",
     "output_type": "stream",
     "text": [
      "Epoch 97: 100%|██████████| 141/141 [00:09<00:00, 14.57batches/s, accuracy=0.994, loss=0.0282]\n"
     ]
    },
    {
     "name": "stdout",
     "output_type": "stream",
     "text": [
      "The validation loss is: 2.468105398118496\n"
     ]
    },
    {
     "name": "stderr",
     "output_type": "stream",
     "text": [
      "Epoch 98: 100%|██████████| 141/141 [00:09<00:00, 14.52batches/s, accuracy=0.977, loss=0.0937]\n"
     ]
    },
    {
     "name": "stdout",
     "output_type": "stream",
     "text": [
      "The validation loss is: 2.514083608984947\n"
     ]
    },
    {
     "name": "stderr",
     "output_type": "stream",
     "text": [
      "Epoch 99: 100%|██████████| 141/141 [00:09<00:00, 14.57batches/s, accuracy=1, loss=0.0164]    \n"
     ]
    },
    {
     "name": "stdout",
     "output_type": "stream",
     "text": [
      "The validation loss is: 2.528106354176998\n"
     ]
    },
    {
     "name": "stderr",
     "output_type": "stream",
     "text": [
      "Epoch 100: 100%|██████████| 141/141 [00:09<00:00, 14.71batches/s, accuracy=0.971, loss=0.0748]\n"
     ]
    },
    {
     "name": "stdout",
     "output_type": "stream",
     "text": [
      "The validation loss is: 2.4915659576654434\n"
     ]
    }
   ],
   "source": [
    "from tqdm import tqdm\n",
    "\n",
    "\n",
    "\n",
    "def train(model, trainIter, \n",
    "          testIter=None, \n",
    "          epochs=None, \n",
    "          loss=None, \n",
    "          optimizer=None, \n",
    "          device=device, \n",
    "          scheduler=None):\n",
    "    # model.to(device)\n",
    "    # pbar = trange(epochs, desc=\"Epochs \", unit=\"batches\")\n",
    "    # with tqdm(trainIter, unit=\"epochs\") as tepoch:\n",
    "    logs_dic = {\n",
    "        \"valildationLoss\": [],\n",
    "        \"trainingLoss\" : [],\n",
    "        \"validationAccuracy\": [],\n",
    "        \"trainingAccuracy\": []\n",
    "    }\n",
    "    for epoch in range(epochs):\n",
    "        trainLossPerBatch = []\n",
    "        trainAccuracyPerBatch = []\n",
    "        with tqdm(trainIter, unit=\"batches\") as tepoch:\n",
    "            for i, (X,y) in enumerate(tepoch):\n",
    "                model.train()\n",
    "                optimizer.zero_grad()\n",
    "                X, y = X.to(device), y.to(device)\n",
    "                out = model(X[:, 1:], y[:, :-1])\n",
    "                l = loss(out.contiguous().view(-1, 4167), y[:, 1:].contiguous().view(-1))\n",
    "                acc = calculateAccuracy(out, y[:, 1:])\n",
    "                trainLossPerBatch.append(l.item())\n",
    "                trainAccuracyPerBatch.append(acc.item())\n",
    "                tepoch.set_description(f\"Epoch {epoch + 1}\")            \n",
    "                tepoch.set_postfix(loss=l.item(), accuracy=acc.item())\n",
    "                l.backward()\n",
    "                optimizer.step()\n",
    "            valLoss, meanValLoss, valAcc = validateModel(model, testIter, loss=loss, device=device)\n",
    "            print(f\"The validation loss is: {meanValLoss}\")\n",
    "            logs_dic[\"valildationLoss\"].append(valLoss)\n",
    "            logs_dic[\"trainingLoss\"].append(trainLossPerBatch)\n",
    "            logs_dic[\"trainingAccuracy\"].append(trainAccuracyPerBatch)\n",
    "            logs_dic[\"validationAccuracy\"].append(valAcc)\n",
    "            # print(f\"Epoch: {epoch+1}     loss: {l}\")\n",
    "            if scheduler:\n",
    "                if scheduler.__module__ == lr_scheduler.__name__:\n",
    "                    scheduler.step()\n",
    "                else:\n",
    "                    for param_group in optimizer.param_groups:\n",
    "                        lr = scheduler(epoch)\n",
    "                        param_group['lr'] = lr\n",
    "                \n",
    "    return logs_dic\n",
    "history = train(model, trainIter, testIter=valIter, epochs=100, loss=loss, optimizer=optimizer, device=device, scheduler=scheduler)"
   ]
  },
  {
   "cell_type": "code",
   "execution_count": 78,
   "metadata": {},
   "outputs": [
    {
     "name": "stdout",
     "output_type": "stream",
     "text": [
      "pickling history.\n",
      "successfully pickled\n"
     ]
    }
   ],
   "source": [
    "def saveHistory(history, filename):\n",
    "    print(\"pickling history.\")\n",
    "    with open(filename, 'wb') as fp:\n",
    "        pickle.dump(history, fp)\n",
    "    print(\"successfully pickled\") \n",
    "    \n",
    "saveHistory(history, \"./history2\")   "
   ]
  },
  {
   "cell_type": "code",
   "execution_count": 18,
   "metadata": {},
   "outputs": [],
   "source": [
    "# %matplotlib inline\n",
    "# import matplotlib.pyplot as plt\n",
    "\n",
    "# lr = TransformerLRScheduler(1000)\n",
    "# plt.plot([i for i in range(5000)], [lr(i) for i in range(5000)])\n",
    "# plt.grid()\n",
    "# plt.xlabel('Epochs')\n",
    "# plt.ylabel(\"Learning Rate\")"
   ]
  },
  {
   "cell_type": "code",
   "execution_count": 79,
   "metadata": {},
   "outputs": [],
   "source": [
    "torch.save(model.state_dict(), '2.pth')\n"
   ]
  },
  {
   "cell_type": "code",
   "execution_count": 81,
   "metadata": {},
   "outputs": [
    {
     "name": "stdout",
     "output_type": "stream",
     "text": [
      "<sos> ich hab <eos> <pad> <pad> <pad> <pad> <pad> <pad> <pad> <pad>\n",
      "<sos> i m so excite <eos> <pad>\n",
      "<sos> ich bin ja so aufgereg <eos>\n",
      "The accuracy for this prediction is: 0.2857\n",
      "\n",
      "\n",
      "<sos> sollen wir beginne a <eos> <pad> <pad> <pad> <pad> <pad> <pad>\n",
      "<sos> shall we star <eos>\n",
      "<sos> sollen wir anfange <eos>\n",
      "The accuracy for this prediction is: 0.6\n",
      "\n",
      "\n",
      "<sos> wie er si <eos> <pad> <pad> <pad> <pad> <pad> <pad> <pad>\n",
      "<sos> how beautifu <eos>\n",
      "<sos> wie scho <eos>\n",
      "The accuracy for this prediction is: 0.5\n",
      "\n",
      "\n",
      "<sos> ich kenne <eos> <pad> <pad> <pad> <pad> <pad> <pad> <pad> <pad>\n",
      "<sos> i know your so <eos>\n",
      "<sos> ich kenne ihren soh <eos>\n",
      "The accuracy for this prediction is: 0.5\n",
      "\n",
      "\n",
      "<sos> du hast <eos> <pad> <pad> <pad> <pad> <pad> <pad> <pad> <pad>\n",
      "<sos> you should res <eos> <pad>\n",
      "<sos> sie sollten sich ausruhe <eos>\n",
      "The accuracy for this prediction is: 0.1667\n",
      "\n",
      "\n",
      "<sos> auto schmeckt <eos> <pad> <pad> <pad> <pad> <pad> <pad> <pad> <pad>\n",
      "<sos> is this car ne <eos>\n",
      "<sos> ist dieser wagen ne <eos>\n",
      "The accuracy for this prediction is: 0.1667\n",
      "\n",
      "\n"
     ]
    }
   ],
   "source": [
    "model.load_state_dict(torch.load('2.pth', map_location='cpu'))\n",
    "\n",
    "def calculateAccuracyTest(prediction, target):\n",
    "    paddingMask = torch.logical_not(torch.eq(target, torch.tensor(0)))\n",
    "    # print(target, prediction)\n",
    "    targLen = len(target[0, :])\n",
    "    accuracy = torch.eq(target,prediction[:, :targLen])\n",
    "    accuracy = torch.logical_and(paddingMask, accuracy)\n",
    "    accuracy = accuracy.type(torch.float32)\n",
    "    paddingMask = paddingMask.type(torch.float32)\n",
    "    return torch.sum(accuracy) / torch.sum(paddingMask)\n",
    "\n",
    "\n",
    "\n",
    "def test(model, encInput):\n",
    "    model.eval()\n",
    "    batch, seq_length = encInput.size()\n",
    "    out = [1, 0, 0, 0, 0, 0, 0, 0, 0, 0, 0, 0]\n",
    "    decOutput =  torch.tensor(out)\n",
    "    decOutput = torch.tile(decOutput, (batch, 1))\n",
    "    for i in range(DE_MAX_SEQ_LEN-1):\n",
    "        prediction = model(encInput.to(device)[:, 1:], decOutput.to(device))\n",
    "        \n",
    "        prediction = prediction[:, i, :]\n",
    "        predictedId = torch.argmax(prediction, dim=-1)\n",
    "        decOutput[:, i+1] = predictedId[ :]\n",
    "        if predictedId.tolist()[0] == EOS_IDX[0]:\n",
    "          break\n",
    "    return decOutput\n",
    "testIter = DataLoader(testData, batch_size=1, shuffle=True, collate_fn=generateBatch)\n",
    "\n",
    "\n",
    "\n",
    "for i, (X, Y) in enumerate(testIter):\n",
    "    pred = test(model, X)\n",
    "    for x, y, z in zip(pred.tolist(), X.tolist(), Y.tolist()):\n",
    "      print(' '.join(vocabDe.lookup_tokens(x)))\n",
    "      print(' '.join(vocabEn.lookup_tokens(y)))\n",
    "      print(' '.join(vocabDe.lookup_tokens(z)))\n",
    "      print(\"The accuracy for this prediction is:\", round(calculateAccuracyTest(pred, Y).item(), 4))\n",
    "      print(\"\\n\")\n",
    "      \n",
    "    if i == 5:\n",
    "      break"
   ]
  },
  {
   "cell_type": "markdown",
   "metadata": {},
   "source": [
    "with open(\"history64h4l1\", 'rb') as fp:\n",
    "    logs = pickle.load(fp)\n",
    "    \n"
   ]
  },
  {
   "cell_type": "code",
   "execution_count": 20,
   "metadata": {},
   "outputs": [
    {
     "data": {
      "text/plain": [
       "['Solarize_Light2',\n",
       " '_classic_test_patch',\n",
       " '_mpl-gallery',\n",
       " '_mpl-gallery-nogrid',\n",
       " 'bmh',\n",
       " 'classic',\n",
       " 'dark_background',\n",
       " 'fast',\n",
       " 'fivethirtyeight',\n",
       " 'ggplot',\n",
       " 'grayscale',\n",
       " 'seaborn-v0_8',\n",
       " 'seaborn-v0_8-bright',\n",
       " 'seaborn-v0_8-colorblind',\n",
       " 'seaborn-v0_8-dark',\n",
       " 'seaborn-v0_8-dark-palette',\n",
       " 'seaborn-v0_8-darkgrid',\n",
       " 'seaborn-v0_8-deep',\n",
       " 'seaborn-v0_8-muted',\n",
       " 'seaborn-v0_8-notebook',\n",
       " 'seaborn-v0_8-paper',\n",
       " 'seaborn-v0_8-pastel',\n",
       " 'seaborn-v0_8-poster',\n",
       " 'seaborn-v0_8-talk',\n",
       " 'seaborn-v0_8-ticks',\n",
       " 'seaborn-v0_8-white',\n",
       " 'seaborn-v0_8-whitegrid',\n",
       " 'tableau-colorblind10']"
      ]
     },
     "execution_count": 20,
     "metadata": {},
     "output_type": "execute_result"
    }
   ],
   "source": [
    "import matplotlib.pyplot as plt\n",
    "\n",
    "plt.style.available"
   ]
  },
  {
   "cell_type": "code",
   "execution_count": null,
   "metadata": {},
   "outputs": [],
   "source": []
  }
 ],
 "metadata": {
  "kernelspec": {
   "display_name": "Python 3",
   "language": "python",
   "name": "python3"
  },
  "language_info": {
   "codemirror_mode": {
    "name": "ipython",
    "version": 3
   },
   "file_extension": ".py",
   "mimetype": "text/x-python",
   "name": "python",
   "nbconvert_exporter": "python",
   "pygments_lexer": "ipython3",
   "version": "3.10.12"
  }
 },
 "nbformat": 4,
 "nbformat_minor": 2
}
